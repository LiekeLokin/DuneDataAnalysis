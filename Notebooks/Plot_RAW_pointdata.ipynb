{
 "metadata": {
  "language_info": {
   "codemirror_mode": {
    "name": "ipython",
    "version": 3
   },
   "file_extension": ".py",
   "mimetype": "text/x-python",
   "name": "python",
   "nbconvert_exporter": "python",
   "pygments_lexer": "ipython3",
   "version": 3
  },
  "orig_nbformat": 2
 },
 "nbformat": 4,
 "nbformat_minor": 2,
 "cells": [
  {
   "cell_type": "code",
   "execution_count": null,
   "metadata": {},
   "outputs": [],
   "source": [
    "#kijken of het lukt om een soort heatmap van de datapunten in de ruimte te maken\n",
    "import pandas as pd, holoviews as hv\n",
    "from colorcet import fire, kbc\n",
    "from datashader.geo import lnglat_to_meters\n",
    "from holoviews.element.tiles import CartoLight\n",
    "from holoviews.operation.datashader import rasterize, shade\n",
    "\n",
    "df = pd.read_csv(r'C:\\Users\\lokinlr\\Documents\\01-DATA\\COVADEM data\\waterdepth-nl-area2-2018-2019-20200723\\waterdepth-nl-area2-2018-2019-20200723.csv', usecols=['lng', 'lat'])\n",
    "# df = pd.read_csv(r'C:\\Users\\lokinlr\\Documents\\01-DATA\\COVADEM data\\waterdepth-nl-area2-2018\\data-export.csv', usecols=['lng', 'lat'])\n",
    "# df.columns = ['longitude', 'latitude']\n",
    "df.loc[:,'lng'], df.loc[:,'lat'] = lnglat_to_meters(df.lng, df.lat)\n",
    "\n",
    "hv.extension('bokeh')\n",
    "\n",
    "map_tiles  = CartoLight().opts(alpha=1.0, width=800, height=400, bgcolor='black',title='CoVadem Data; locations', xaxis=None, yaxis=None)\n",
    "points     = hv.Points(df, ['lng', 'lat'])\n",
    "rasterized = shade(rasterize(points, x_sampling=1, y_sampling=1, width=800, height=400), cmap=kbc)\n",
    "\n",
    "map_tiles * rasterized"
   ]
  }
 ]
}