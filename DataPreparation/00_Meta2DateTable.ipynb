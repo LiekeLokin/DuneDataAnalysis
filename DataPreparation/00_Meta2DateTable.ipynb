{
 "cells": [
  {
   "cell_type": "markdown",
   "id": "ec48f152",
   "metadata": {},
   "source": [
    "# Uitlezen META bestanden tot een DateTable"
   ]
  },
  {
   "cell_type": "code",
   "execution_count": 21,
   "id": "c4acf685",
   "metadata": {},
   "outputs": [],
   "source": [
    "import os\n",
    "import pandas as pd\n",
    "import numpy as np"
   ]
  },
  {
   "cell_type": "code",
   "execution_count": 2,
   "id": "0f28477d",
   "metadata": {},
   "outputs": [],
   "source": [
    "metaFolder = r'.\\MiddenWaal\\Meta'\n",
    "indexCol = ['3A','3B','3C','4A','4B','4C','5A',\n",
    "            'vak08','vak09','vak10','vak11','vak12','vak13','vak14']\n",
    "dateTable = pd.DataFrame(index = indexCol)"
   ]
  },
  {
   "cell_type": "code",
   "execution_count": 61,
   "id": "a6ecdccd",
   "metadata": {},
   "outputs": [
    {
     "data": {
      "text/plain": [
       "'meting_156_BM175'"
      ]
     },
     "metadata": {},
     "output_type": "display_data"
    },
    {
     "data": {
      "text/plain": [
       "'meting_157_BM176'"
      ]
     },
     "metadata": {},
     "output_type": "display_data"
    },
    {
     "data": {
      "text/plain": [
       "'meting_158_BM177'"
      ]
     },
     "metadata": {},
     "output_type": "display_data"
    },
    {
     "data": {
      "text/plain": [
       "'meting_159_BM178'"
      ]
     },
     "metadata": {},
     "output_type": "display_data"
    },
    {
     "data": {
      "text/plain": [
       "'meting_160_BM180'"
      ]
     },
     "metadata": {},
     "output_type": "display_data"
    },
    {
     "data": {
      "text/plain": [
       "'meting_161_BM181'"
      ]
     },
     "metadata": {},
     "output_type": "display_data"
    },
    {
     "data": {
      "text/plain": [
       "'meting_162_BM182'"
      ]
     },
     "metadata": {},
     "output_type": "display_data"
    },
    {
     "data": {
      "text/plain": [
       "'meting_163_BM183'"
      ]
     },
     "metadata": {},
     "output_type": "display_data"
    },
    {
     "data": {
      "text/plain": [
       "'meting_164_BM184'"
      ]
     },
     "metadata": {},
     "output_type": "display_data"
    },
    {
     "data": {
      "text/plain": [
       "'meting_165_BM185'"
      ]
     },
     "metadata": {},
     "output_type": "display_data"
    },
    {
     "data": {
      "text/plain": [
       "'meting_166_BM186'"
      ]
     },
     "metadata": {},
     "output_type": "display_data"
    },
    {
     "data": {
      "text/plain": [
       "'meting_167_BM187'"
      ]
     },
     "metadata": {},
     "output_type": "display_data"
    },
    {
     "data": {
      "text/plain": [
       "'meting_168_BM188'"
      ]
     },
     "metadata": {},
     "output_type": "display_data"
    },
    {
     "data": {
      "text/plain": [
       "'meting_169_BM189'"
      ]
     },
     "metadata": {},
     "output_type": "display_data"
    },
    {
     "data": {
      "text/plain": [
       "'meting_170_BM190'"
      ]
     },
     "metadata": {},
     "output_type": "display_data"
    },
    {
     "data": {
      "text/plain": [
       "'meting_171_BM191'"
      ]
     },
     "metadata": {},
     "output_type": "display_data"
    },
    {
     "data": {
      "text/plain": [
       "'meting_172_BM192'"
      ]
     },
     "metadata": {},
     "output_type": "display_data"
    },
    {
     "data": {
      "text/plain": [
       "'meting_173_BM193'"
      ]
     },
     "metadata": {},
     "output_type": "display_data"
    },
    {
     "data": {
      "text/plain": [
       "'meting_174_BM194'"
      ]
     },
     "metadata": {},
     "output_type": "display_data"
    },
    {
     "data": {
      "text/plain": [
       "'meting_175_BM195'"
      ]
     },
     "metadata": {},
     "output_type": "display_data"
    },
    {
     "data": {
      "text/plain": [
       "'meting_176_BM196'"
      ]
     },
     "metadata": {},
     "output_type": "display_data"
    },
    {
     "data": {
      "text/plain": [
       "'meting_177_BM197'"
      ]
     },
     "metadata": {},
     "output_type": "display_data"
    },
    {
     "data": {
      "text/plain": [
       "'meting_178_BM198'"
      ]
     },
     "metadata": {},
     "output_type": "display_data"
    },
    {
     "data": {
      "text/plain": [
       "'meting_179_BM199'"
      ]
     },
     "metadata": {},
     "output_type": "display_data"
    },
    {
     "data": {
      "text/plain": [
       "'meting_180_BM200'"
      ]
     },
     "metadata": {},
     "output_type": "display_data"
    }
   ],
   "source": [
    "counter = 0\n",
    "for file in os.listdir(metaFolder):\n",
    "    if file[-4:] == '.csv':\n",
    "        meta = pd.read_csv(os.path.join(metaFolder,file))\n",
    "        if '\\multibeam' in meta.FileLoc[0]:\n",
    "            meting = meta.FileLoc[0].split('\\\\')[3].split(' ')\n",
    "            metingstr = f'meting_{counter:03d}_{meting[0]}{meting[1]}'\n",
    "            data = np.zeros(14)\n",
    "            for idx,fn in enumerate(meta.FileName):\n",
    "                if fn.split(' ')[1] == '03':\n",
    "                    data[0:3] = int(meta.Date[idx])\n",
    "                elif fn.split(' ')[1] == '04':\n",
    "                    data[3:6] = int(meta.Date[idx])\n",
    "                elif fn.split(' ')[1] == '03A':\n",
    "                    data[0] = int(meta.Date[idx])\n",
    "                elif fn.split(' ')[1] == '03B':\n",
    "                    data[1] = int(meta.Date[idx])\n",
    "                elif fn.split(' ')[1] == '03C':\n",
    "                    data[2] = int(meta.Date[idx])\n",
    "                elif fn.split(' ')[1] == '04A':\n",
    "                    data[3] = int(meta.Date[idx])\n",
    "            \n",
    "            dateTable[metingstr] = data\n",
    "            counter = counter+1\n",
    "        elif '01-DATA\\RWS_' in meta.FileLoc[0] and '\\BM' in meta.FileLoc[0]:\n",
    "#             display(meta.FileLoc[0])\n",
    "            meting = meta.FileLoc[0].split('\\\\')[7].split(' ')\n",
    "            metingstr = f'meting_{counter:03d}_{meting[0]}{meting[1]}'\n",
    "            display(metingstr)\n",
    "            data = np.zeros(14)\n",
    "            if not 'vak' in meta.FileName[0]:\n",
    "                for idx,fn in enumerate(meta.FileName):\n",
    "                    if fn.split(' ')[1] == '03':\n",
    "                        data[0:3] = int(meta.Date[idx])\n",
    "                    elif fn.split(' ')[1] == '04':\n",
    "                        data[3:6] = int(meta.Date[idx])\n",
    "                    elif fn.split(' ')[1] == '03A':\n",
    "                        data[0] = int(meta.Date[idx])\n",
    "                    elif fn.split(' ')[1] == '03B':\n",
    "                        data[1] = int(meta.Date[idx])\n",
    "                    elif fn.split(' ')[1] == '03C':\n",
    "                        data[2] = int(meta.Date[idx])\n",
    "                    elif fn.split(' ')[1] == '04A':\n",
    "                        data[3] = int(meta.Date[idx])\n",
    "            dateTable[metingstr] = data\n",
    "            counter = counter+1\n",
    "        else:\n",
    "            meting = meta.FileLoc[0].split('\\\\')[7].split('_')\n",
    "            metingstr = f'meting_{counter:03d}_{meting[0]}{meting[2]}'\n",
    "            data = np.zeros(14)\n",
    "            dateTable[metingstr] = data\n",
    "            counter = counter+1"
   ]
  },
  {
   "cell_type": "code",
   "execution_count": 62,
   "id": "7c9976a6",
   "metadata": {},
   "outputs": [],
   "source": [
    "dateTable.to_csv('dateTable_all.csv')"
   ]
  },
  {
   "cell_type": "code",
   "execution_count": 60,
   "id": "0e624147",
   "metadata": {},
   "outputs": [
    {
     "data": {
      "text/plain": [
       "'meting_235_ROP056'"
      ]
     },
     "execution_count": 60,
     "metadata": {},
     "output_type": "execute_result"
    }
   ],
   "source": [
    "metingstr"
   ]
  },
  {
   "cell_type": "code",
   "execution_count": null,
   "id": "35904ed7",
   "metadata": {},
   "outputs": [],
   "source": []
  }
 ],
 "metadata": {
  "kernelspec": {
   "display_name": "Python 3",
   "language": "python",
   "name": "python3"
  },
  "language_info": {
   "codemirror_mode": {
    "name": "ipython",
    "version": 3
   },
   "file_extension": ".py",
   "mimetype": "text/x-python",
   "name": "python",
   "nbconvert_exporter": "python",
   "pygments_lexer": "ipython3",
   "version": "3.8.10"
  }
 },
 "nbformat": 4,
 "nbformat_minor": 5
}
